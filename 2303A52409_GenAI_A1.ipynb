{
  "nbformat": 4,
  "nbformat_minor": 0,
  "metadata": {
    "colab": {
      "provenance": [],
      "include_colab_link": true
    },
    "kernelspec": {
      "name": "python3",
      "display_name": "Python 3"
    },
    "language_info": {
      "name": "python"
    }
  },
  "cells": [
    {
      "cell_type": "markdown",
      "metadata": {
        "id": "view-in-github",
        "colab_type": "text"
      },
      "source": [
        "<a href=\"https://colab.research.google.com/github/Hansika2346/GenAI_2303A52409/blob/main/2303A52409_GenAI_A1.ipynb\" target=\"_parent\"><img src=\"https://colab.research.google.com/assets/colab-badge.svg\" alt=\"Open In Colab\"/></a>"
      ]
    },
    {
      "cell_type": "markdown",
      "source": [
        "#Rgression Metrices"
      ],
      "metadata": {
        "id": "eAEVsL42-bLl"
      }
    },
    {
      "cell_type": "code",
      "execution_count": 1,
      "metadata": {
        "id": "TO0ZorlD9hCa"
      },
      "outputs": [],
      "source": [
        "ya=[10,20,30,40,50]\n",
        "yp=[10.2,20.5,30.3,40.8,50.6]"
      ]
    },
    {
      "cell_type": "markdown",
      "source": [
        "##Without libraries"
      ],
      "metadata": {
        "id": "G16RW_L2-gad"
      }
    },
    {
      "cell_type": "code",
      "source": [],
      "metadata": {
        "id": "Y_eIWeVDOHfn"
      },
      "execution_count": 1,
      "outputs": []
    },
    {
      "cell_type": "code",
      "source": [
        "sum=0\n",
        "for i in range(len(ya)):\n",
        "  sum=sum+(ya[i]-yp[i])**2\n",
        "mse = sum/len(ya)\n",
        "print(\"mean square error : \",mse)"
      ],
      "metadata": {
        "colab": {
          "base_uri": "https://localhost:8080/"
        },
        "id": "oClnZCuf-euh",
        "outputId": "1f896a03-4b6a-40ee-c287-857c37e85503"
      },
      "execution_count": 3,
      "outputs": [
        {
          "output_type": "stream",
          "name": "stdout",
          "text": [
            "mean square error :  0.27599999999999947\n"
          ]
        }
      ]
    },
    {
      "cell_type": "code",
      "source": [
        "total=0\n",
        "for i in range(len(ya)):\n",
        "  sum=sum+abs((ya[i]-yp[i]))\n",
        "mae = sum/len(ya)\n",
        "print(\"mean absolute error : \",mae)"
      ],
      "metadata": {
        "colab": {
          "base_uri": "https://localhost:8080/"
        },
        "id": "DHiyxtOU-tL-",
        "outputId": "6f49240d-3648-4107-f857-b0f61d3ae0c9"
      },
      "execution_count": 5,
      "outputs": [
        {
          "output_type": "stream",
          "name": "stdout",
          "text": [
            "mean absolute error :  1.2359999999999989\n"
          ]
        }
      ]
    },
    {
      "cell_type": "code",
      "source": [
        "print(\"Root mean square error : \",(mse)**0.5)"
      ],
      "metadata": {
        "colab": {
          "base_uri": "https://localhost:8080/"
        },
        "id": "cMby74OO_Kkd",
        "outputId": "ed8a18e9-fb3e-4d15-eefa-5e06371f41a0"
      },
      "execution_count": 6,
      "outputs": [
        {
          "output_type": "stream",
          "name": "stdout",
          "text": [
            "Root mean square error :  0.5253570214625474\n"
          ]
        }
      ]
    },
    {
      "cell_type": "markdown",
      "source": [
        "##with libraries"
      ],
      "metadata": {
        "id": "Rx02_OPH_msM"
      }
    },
    {
      "cell_type": "code",
      "source": [
        "from sklearn.metrics import mean_squared_error,mean_absolute_error,root_mean_squared_error"
      ],
      "metadata": {
        "id": "8A1EtTSA_YVP"
      },
      "execution_count": 7,
      "outputs": []
    },
    {
      "cell_type": "code",
      "source": [
        "print(\"mean square error : \",mean_squared_error(ya,yp))\n",
        "print(\"mean absolute error : \",mean_absolute_error(ya,yp))\n",
        "print(\"Root mean square error : \",root_mean_squared_error(ya,yp))"
      ],
      "metadata": {
        "colab": {
          "base_uri": "https://localhost:8080/"
        },
        "id": "opVMpFrE_y6m",
        "outputId": "bc642762-3d64-4757-e9c2-5ec7feea1cb1"
      },
      "execution_count": 8,
      "outputs": [
        {
          "output_type": "stream",
          "name": "stdout",
          "text": [
            "mean square error :  0.27599999999999947\n",
            "mean absolute error :  0.4799999999999997\n",
            "Root mean square error :  0.5253570214625474\n"
          ]
        }
      ]
    },
    {
      "cell_type": "markdown",
      "source": [
        "#Classification Metrices"
      ],
      "metadata": {
        "id": "PiojxQo7_5_t"
      }
    },
    {
      "cell_type": "code",
      "source": [
        "ya1=[0,0,0,0,0,1,1,1,1,1,1,2,2,2,2,2]\n",
        "yp1=[0,0,1,1,2,2,0,1,1,1,2,0,2,1,1,2]"
      ],
      "metadata": {
        "id": "8lgJbkgR_3fk"
      },
      "execution_count": 9,
      "outputs": []
    },
    {
      "cell_type": "markdown",
      "source": [
        "#without libraries\n"
      ],
      "metadata": {
        "id": "AzRuiZiqNP_O"
      }
    },
    {
      "cell_type": "code",
      "source": [
        "min_label = min(min(ya1), min(yp1))\n",
        "max_label = max(max(ya1), max(yp1))\n",
        "\n",
        "\n",
        "num_classes = max_label - min_label + 1\n",
        "\n",
        "cm = [[0 for _ in range(num_classes)] for _ in range(num_classes)]\n",
        "\n",
        "for i in range(len(ya1)):\n",
        "    cm[ya1[i]-min_label][yp1[i]-min_label] += 1\n",
        "\n",
        "for row in cm:\n",
        "    print(row)\n"
      ],
      "metadata": {
        "colab": {
          "base_uri": "https://localhost:8080/"
        },
        "id": "RfGHGqhSABU8",
        "outputId": "8c302125-4adb-4283-bf32-d3cb2ea0ae3e"
      },
      "execution_count": 10,
      "outputs": [
        {
          "output_type": "stream",
          "name": "stdout",
          "text": [
            "[2, 2, 1]\n",
            "[1, 3, 2]\n",
            "[1, 2, 2]\n"
          ]
        }
      ]
    },
    {
      "cell_type": "code",
      "source": [
        "import numpy as np"
      ],
      "metadata": {
        "id": "oMU7eUBPI4cS"
      },
      "execution_count": 11,
      "outputs": []
    },
    {
      "cell_type": "code",
      "source": [
        "accuracy = np.sum(np.diagonal(cm)) / np.sum(cm)\n",
        "\n",
        "precision = {}\n",
        "recall = {}\n",
        "f1_score = {}\n",
        "\n",
        "for i in range(num_classes):\n",
        "    true_positive = cm[i][i]\n",
        "    false_positive = np.sum(cm[j][i] for j in range(num_classes)) - true_positive\n",
        "    false_negative = np.sum(cm[i][j] for j in range(num_classes)) - true_positive\n",
        "    true_negative = np.sum(np.sum(cm[row][col] for col in range(num_classes)) for row in range(num_classes)) - (true_positive + false_positive + false_negative)\n",
        "\n",
        "    # Precision: TP / (TP + FP)\n",
        "    precision[i] = true_positive / (true_positive + false_positive) if (true_positive + false_positive) > 0 else 0\n",
        "\n",
        "    # Recall: TP / (TP + FN)\n",
        "    recall[i] = true_positive / (true_positive + false_negative) if (true_positive + false_negative) > 0 else 0\n",
        "\n",
        "    # F1 Score: 2 * (Precision * Recall) / (Precision + Recall)\n",
        "    if precision[i] + recall[i] > 0:\n",
        "        f1_score[i] = 2 * (precision[i] * recall[i]) / (precision[i] + recall[i])\n",
        "    else:\n",
        "        f1_score[i] = 0\n",
        "\n",
        "# Calculate overall precision, recall, and F1-score using numpy\n",
        "overall_precision = np.sum([precision[i] for i in range(num_classes)])/num_classes\n",
        "overall_recall = np.sum([recall[i] for i in range(num_classes)])/num_classes\n",
        "overall_f1_score = np.sum([f1_score[i] for i in range(num_classes)])/num_classes\n",
        "\n",
        "# Print results\n",
        "for i in range(num_classes):\n",
        "    print(f\"\\nClass {i + min_label}:\")\n",
        "    print(f\"  Precision: {precision[i]:.2f}\")\n",
        "    print(f\"  Recall: {recall[i]:.2f}\")\n",
        "    print(f\"  F1-Score: {f1_score[i]:.2f}\")\n",
        "\n",
        "\n",
        "print(\"\\nMetrics:\")\n",
        "print(f\"Overall Accuracy: {accuracy:.2f}\")\n",
        "print(f\"Overall Precision: {overall_precision:.2f}\")\n",
        "print(f\"Overall Recall: {overall_recall:.2f}\")\n",
        "print(f\"Overall F1-Score: {overall_f1_score:.2f}\")\n",
        "\n",
        "print()\n",
        "print()"
      ],
      "metadata": {
        "id": "-9--3z7RGdV-",
        "colab": {
          "base_uri": "https://localhost:8080/"
        },
        "outputId": "70e7f264-0fd7-480a-8fa9-a61a964dc014"
      },
      "execution_count": 12,
      "outputs": [
        {
          "output_type": "stream",
          "name": "stdout",
          "text": [
            "\n",
            "Class 0:\n",
            "  Precision: 0.50\n",
            "  Recall: 0.40\n",
            "  F1-Score: 0.44\n",
            "\n",
            "Class 1:\n",
            "  Precision: 0.43\n",
            "  Recall: 0.50\n",
            "  F1-Score: 0.46\n",
            "\n",
            "Class 2:\n",
            "  Precision: 0.40\n",
            "  Recall: 0.40\n",
            "  F1-Score: 0.40\n",
            "\n",
            "Metrics:\n",
            "Overall Accuracy: 0.44\n",
            "Overall Precision: 0.44\n",
            "Overall Recall: 0.43\n",
            "Overall F1-Score: 0.44\n",
            "\n",
            "\n"
          ]
        },
        {
          "output_type": "stream",
          "name": "stderr",
          "text": [
            "<ipython-input-12-bb5a5184c1ba>:9: DeprecationWarning: Calling np.sum(generator) is deprecated, and in the future will give a different result. Use np.sum(np.fromiter(generator)) or the python sum builtin instead.\n",
            "  false_positive = np.sum(cm[j][i] for j in range(num_classes)) - true_positive\n",
            "<ipython-input-12-bb5a5184c1ba>:10: DeprecationWarning: Calling np.sum(generator) is deprecated, and in the future will give a different result. Use np.sum(np.fromiter(generator)) or the python sum builtin instead.\n",
            "  false_negative = np.sum(cm[i][j] for j in range(num_classes)) - true_positive\n",
            "<ipython-input-12-bb5a5184c1ba>:11: DeprecationWarning: Calling np.sum(generator) is deprecated, and in the future will give a different result. Use np.sum(np.fromiter(generator)) or the python sum builtin instead.\n",
            "  true_negative = np.sum(np.sum(cm[row][col] for col in range(num_classes)) for row in range(num_classes)) - (true_positive + false_positive + false_negative)\n"
          ]
        }
      ]
    },
    {
      "cell_type": "markdown",
      "source": [
        "##with libraries"
      ],
      "metadata": {
        "id": "wDkFSIfhLZay"
      }
    },
    {
      "cell_type": "code",
      "source": [
        "from sklearn.metrics import accuracy_score,precision_score,f1_score,recall_score,classification_report,confusion_matrix"
      ],
      "metadata": {
        "id": "EUERDDOsLgKn"
      },
      "execution_count": 13,
      "outputs": []
    },
    {
      "cell_type": "code",
      "source": [
        "print(confusion_matrix(ya1,yp1))"
      ],
      "metadata": {
        "colab": {
          "base_uri": "https://localhost:8080/"
        },
        "id": "mIPA6IbhNeIr",
        "outputId": "75e37bba-7be3-41f9-ad69-644840c52597"
      },
      "execution_count": 14,
      "outputs": [
        {
          "output_type": "stream",
          "name": "stdout",
          "text": [
            "[[2 2 1]\n",
            " [1 3 2]\n",
            " [1 2 2]]\n"
          ]
        }
      ]
    },
    {
      "cell_type": "code",
      "source": [
        "print(classification_report(ya1,yp1))"
      ],
      "metadata": {
        "colab": {
          "base_uri": "https://localhost:8080/"
        },
        "id": "xazicOLtLzz7",
        "outputId": "8d4e11e7-c44d-4788-940a-59e88cb23155"
      },
      "execution_count": 15,
      "outputs": [
        {
          "output_type": "stream",
          "name": "stdout",
          "text": [
            "              precision    recall  f1-score   support\n",
            "\n",
            "           0       0.50      0.40      0.44         5\n",
            "           1       0.43      0.50      0.46         6\n",
            "           2       0.40      0.40      0.40         5\n",
            "\n",
            "    accuracy                           0.44        16\n",
            "   macro avg       0.44      0.43      0.44        16\n",
            "weighted avg       0.44      0.44      0.44        16\n",
            "\n"
          ]
        }
      ]
    },
    {
      "cell_type": "code",
      "source": [
        "print(\"\\nMetrics:\")\n",
        "print(f\"Overall Accuracy: {accuracy_score(ya1,yp1):.2f}\")\n",
        "print(f\"Overall Precision: {precision_score(ya1,yp1, average='weighted'):.2f}\")\n",
        "print(f\"Overall Recall: {recall_score(ya1,yp1, average='weighted'):.2f}\")\n",
        "print(f\"Overall F1-Score: {f1_score(ya1,yp1, average='weighted'):.2f}\")"
      ],
      "metadata": {
        "colab": {
          "base_uri": "https://localhost:8080/"
        },
        "id": "77-jG--xMayV",
        "outputId": "32096a76-c404-4ec0-81f0-e5fe30fc1ccf"
      },
      "execution_count": 16,
      "outputs": [
        {
          "output_type": "stream",
          "name": "stdout",
          "text": [
            "\n",
            "Metrics:\n",
            "Overall Accuracy: 0.44\n",
            "Overall Precision: 0.44\n",
            "Overall Recall: 0.44\n",
            "Overall F1-Score: 0.44\n"
          ]
        }
      ]
    },
    {
      "cell_type": "code",
      "source": [],
      "metadata": {
        "id": "kzqPOhg5M7F7"
      },
      "execution_count": 16,
      "outputs": []
    }
  ]
}