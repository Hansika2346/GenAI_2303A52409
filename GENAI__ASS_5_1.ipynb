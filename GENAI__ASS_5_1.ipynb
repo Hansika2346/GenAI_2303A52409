{
  "nbformat": 4,
  "nbformat_minor": 0,
  "metadata": {
    "colab": {
      "provenance": [],
      "authorship_tag": "ABX9TyMjM5uyM1BiC0sOgTM7FC8W",
      "include_colab_link": true
    },
    "kernelspec": {
      "name": "python3",
      "display_name": "Python 3"
    },
    "language_info": {
      "name": "python"
    }
  },
  "cells": [
    {
      "cell_type": "markdown",
      "metadata": {
        "id": "view-in-github",
        "colab_type": "text"
      },
      "source": [
        "<a href=\"https://colab.research.google.com/github/Hansika2346/GenAI_2303A52409/blob/main/GENAI__ASS_5_1.ipynb\" target=\"_parent\"><img src=\"https://colab.research.google.com/assets/colab-badge.svg\" alt=\"Open In Colab\"/></a>"
      ]
    },
    {
      "cell_type": "code",
      "execution_count": null,
      "metadata": {
        "id": "Ij8ICgFWZo1B"
      },
      "outputs": [],
      "source": [
        "import numpy as np\n",
        "import matplotlib.pyplot as plt\n"
      ]
    },
    {
      "cell_type": "code",
      "source": [
        "def sigmoid(x):\n",
        "    return 1 / (1 + np.exp(-x))\n",
        "\n",
        "def sigmoid_derivative(x):\n",
        "    return x * (1 - x)\n"
      ],
      "metadata": {
        "id": "Mi5MJgKQZzF0"
      },
      "execution_count": null,
      "outputs": []
    },
    {
      "cell_type": "code",
      "source": [
        "np.random.seed(42)\n",
        "\n",
        "input_neurons = 2\n",
        "hidden_neurons = 3\n",
        "output_neurons = 1\n",
        "\n",
        "\n",
        "W1 = np.random.randn(hidden_neurons, input_neurons)\n",
        "B1 = np.random.randn(hidden_neurons, 1)\n",
        "\n",
        "W2 = np.random.randn(output_neurons, hidden_neurons)\n",
        "B2 = np.random.randn(output_neurons, 1)\n"
      ],
      "metadata": {
        "id": "GzSQ-Ke6Z5O_"
      },
      "execution_count": null,
      "outputs": []
    },
    {
      "cell_type": "code",
      "source": [
        "X_train = np.array([[0.1, 0.2],\n",
        "                    [0.2, 0.3],\n",
        "                    [0.3, 0.4],\n",
        "                    [0.6, 0.7],\n",
        "                    [0.7, 0.8],\n",
        "                    [0.8, 0.9]]).T\n",
        "\n",
        "Y_train = np.array([[0.3432, 0.3490, 0.3548, 0.3720, 0.3776, 0.3832]]).T\n"
      ],
      "metadata": {
        "id": "jBgpqvR-Z8On"
      },
      "execution_count": null,
      "outputs": []
    },
    {
      "cell_type": "code",
      "source": [
        "def forward_propagation(X):\n",
        "    Z1 = np.dot(W1, X) + B1\n",
        "    A1 = sigmoid(Z1)\n",
        "    Z2 = np.dot(W2, A1) + B2\n",
        "    A2 = Z2\n",
        "    return Z1, A1, Z2, A2\n"
      ],
      "metadata": {
        "id": "PySD5pdNaA1S"
      },
      "execution_count": null,
      "outputs": []
    },
    {
      "cell_type": "code",
      "source": [
        "def backpropagation(X, Y, Z1, A1, A2, learning_rate=0.01):\n",
        "    global W1, B1, W2, B2\n",
        "\n",
        "    m = X.shape[1]\n",
        "    E = A2 - Y\n",
        "\n",
        "\n",
        "    dW2 = (1/m) * np.dot(E, A1.T)\n",
        "    dB2 = (1/m) * np.sum(E, axis=1, keepdims=True)\n",
        "\n",
        "    dA1 = np.dot(W2.T, E)\n",
        "    dZ1 = dA1 * sigmoid_derivative(A1)\n",
        "    dW1 = (1/m) * np.dot(dZ1, X.T)\n",
        "    dB1 = (1/m) * np.sum(dZ1, axis=1, keepdims=True)\n",
        "\n",
        "    # Update weights and biases\n",
        "    W1 -= learning_rate * dW1\n",
        "    B1 -= learning_rate * dB1\n",
        "    W2 -= learning_rate * dW2\n",
        "    B2 -= learning_rate * dB2\n"
      ],
      "metadata": {
        "id": "mMNjslIjaFKE"
      },
      "execution_count": null,
      "outputs": []
    },
    {
      "cell_type": "code",
      "source": [
        "def backpropagation(X, Y, Z1, A1, A2, learning_rate=0.01):\n",
        "    global W1, B1, W2, B2\n",
        "\n",
        "    m = X.shape[1]\n",
        "    E = A2 - Y.T\n",
        "\n",
        "    # Compute gradients\n",
        "    dW2 = (1/m) * np.dot(E, A1.T)\n",
        "    dB2 = (1/m) * np.sum(E, axis=1, keepdims=True)\n",
        "\n",
        "    dA1 = np.dot(W2.T, E)\n",
        "    dZ1 = dA1 * sigmoid_derivative(A1)\n",
        "    dW1 = (1/m) * np.dot(dZ1, X.T)\n",
        "    dB1 = (1/m) * np.sum(dZ1, axis=1, keepdims=True)\n",
        "\n",
        "    # Update weights and biases\n",
        "    W1 -= learning_rate * dW1\n",
        "    B1 -= learning_rate * dB1\n",
        "    W2 -= learning_rate * dW2\n",
        "    B2 -= learning_rate * dB2"
      ],
      "metadata": {
        "id": "_Uajs5t9aW7b"
      },
      "execution_count": null,
      "outputs": []
    },
    {
      "cell_type": "code",
      "source": [
        "epochs = 10000\n",
        "learning_rate = 0.01\n",
        "\n",
        "for i in range(epochs):\n",
        "    Z1, A1, Z2, A2 = forward_propagation(X_train)\n",
        "    backpropagation(X_train, Y_train, Z1, A1, A2, learning_rate)\n",
        "\n",
        "    if i % 1000 == 0:\n",
        "        loss = np.mean((A2 - Y_train) ** 2)\n",
        "        print(f\"Epoch {i}, Loss: {loss:.6f}\")\n"
      ],
      "metadata": {
        "colab": {
          "base_uri": "https://localhost:8080/"
        },
        "id": "U09ouTvfad-u",
        "outputId": "e8809cdf-f65a-4044-bd69-905a7621fba5"
      },
      "execution_count": null,
      "outputs": [
        {
          "output_type": "stream",
          "name": "stdout",
          "text": [
            "Epoch 0, Loss: 0.045333\n",
            "Epoch 1000, Loss: 0.000261\n",
            "Epoch 2000, Loss: 0.000249\n",
            "Epoch 3000, Loss: 0.000241\n",
            "Epoch 4000, Loss: 0.000236\n",
            "Epoch 5000, Loss: 0.000233\n",
            "Epoch 6000, Loss: 0.000232\n",
            "Epoch 7000, Loss: 0.000232\n",
            "Epoch 8000, Loss: 0.000235\n",
            "Epoch 9000, Loss: 0.000238\n"
          ]
        }
      ]
    },
    {
      "cell_type": "code",
      "source": [
        "X_test = np.array([[0.4, 0.5],\n",
        "                   [0.5, 0.6]]).T\n",
        "\n",
        "Y_test = np.array([[0.3606, 0.3663]]).T\n",
        "\n",
        "_, _, _, A2_test = forward_propagation(X_test)\n",
        "mse_test = np.mean((A2_test - Y_test) ** 2)\n",
        "print(f\"Test MSE: {mse_test:.6f}\")\n"
      ],
      "metadata": {
        "colab": {
          "base_uri": "https://localhost:8080/"
        },
        "id": "3Fuen3FpahdJ",
        "outputId": "8c5c95b3-e508-414c-ad45-8a0de12ac5da"
      },
      "execution_count": null,
      "outputs": [
        {
          "output_type": "stream",
          "name": "stdout",
          "text": [
            "Test MSE: 0.000019\n"
          ]
        }
      ]
    },
    {
      "cell_type": "code",
      "source": [
        "x1, x2 = map(float, input(\"Enter x1 and x2: \").split())\n",
        "X_user = np.array([[x1], [x2]])\n",
        "_, _, _, A2_user = forward_propagation(X_user)\n",
        "print(f\"Predicted output: {A2_user[0][0]:.6f}\")\n"
      ],
      "metadata": {
        "colab": {
          "base_uri": "https://localhost:8080/"
        },
        "id": "yUp5tErQai6m",
        "outputId": "e7ab0d16-48d5-4ee3-e211-1d1b580f69a4"
      },
      "execution_count": null,
      "outputs": [
        {
          "output_type": "stream",
          "name": "stdout",
          "text": [
            "Enter x1 and x2: 0.4 0.5\n",
            "Predicted output: 0.359477\n"
          ]
        }
      ]
    }
  ]
}