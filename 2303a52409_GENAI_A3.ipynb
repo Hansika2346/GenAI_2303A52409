{
  "nbformat": 4,
  "nbformat_minor": 0,
  "metadata": {
    "colab": {
      "provenance": [],
      "authorship_tag": "ABX9TyM0B0UY53enlFwZ+a2x5rHo",
      "include_colab_link": true
    },
    "kernelspec": {
      "name": "python3",
      "display_name": "Python 3"
    },
    "language_info": {
      "name": "python"
    }
  },
  "cells": [
    {
      "cell_type": "markdown",
      "metadata": {
        "id": "view-in-github",
        "colab_type": "text"
      },
      "source": [
        "<a href=\"https://colab.research.google.com/github/Hansika2346/GenAI_2303A52409/blob/main/2303a52409_GENAI_A3.ipynb\" target=\"_parent\"><img src=\"https://colab.research.google.com/assets/colab-badge.svg\" alt=\"Open In Colab\"/></a>"
      ]
    },
    {
      "cell_type": "code",
      "source": [
        "import numpy as np"
      ],
      "metadata": {
        "id": "5_q8RlxIeDuN"
      },
      "execution_count": 32,
      "outputs": []
    },
    {
      "cell_type": "code",
      "execution_count": 1,
      "metadata": {
        "id": "uKlVh4NgORWz"
      },
      "outputs": [],
      "source": [
        "#f(x) = 5x4 +3x2 +10"
      ]
    },
    {
      "cell_type": "code",
      "source": [
        "eta=0.001\n",
        "epochs=1000"
      ],
      "metadata": {
        "id": "6URdNJG4R2go"
      },
      "execution_count": 2,
      "outputs": []
    },
    {
      "cell_type": "code",
      "source": [
        "import random\n",
        "x = random.uniform(-10,10)\n",
        "print(x)"
      ],
      "metadata": {
        "colab": {
          "base_uri": "https://localhost:8080/"
        },
        "id": "dqmEnysfR5lF",
        "outputId": "8fd0e23c-7eb1-4deb-90d2-d9f0aca625eb"
      },
      "execution_count": 13,
      "outputs": [
        {
          "output_type": "stream",
          "name": "stdout",
          "text": [
            "9.086640620104589\n"
          ]
        }
      ]
    },
    {
      "cell_type": "code",
      "source": [
        "for i in range(epochs):\n",
        "  grad = 20*x**3 + 6*x\n",
        "  delx = -eta*grad\n",
        "  x=x+delx"
      ],
      "metadata": {
        "id": "ypVwdi7nSDXa"
      },
      "execution_count": 35,
      "outputs": []
    },
    {
      "cell_type": "code",
      "source": [
        "round(x)"
      ],
      "metadata": {
        "colab": {
          "base_uri": "https://localhost:8080/"
        },
        "id": "fkMLxwgqSHTm",
        "outputId": "6acf857d-8741-45e0-844d-82989483c3b7"
      },
      "execution_count": 5,
      "outputs": [
        {
          "output_type": "execute_result",
          "data": {
            "text/plain": [
              "0"
            ]
          },
          "metadata": {},
          "execution_count": 5
        }
      ]
    },
    {
      "cell_type": "markdown",
      "source": [
        "2"
      ],
      "metadata": {
        "id": "9M5CfY9RTAPF"
      }
    },
    {
      "cell_type": "code",
      "source": [
        "#f(x) = 3x2 +5e−y +10\n",
        "import math"
      ],
      "metadata": {
        "id": "7LsOz7SYS164"
      },
      "execution_count": 6,
      "outputs": []
    },
    {
      "cell_type": "code",
      "source": [
        "eta=0.001\n",
        "epochs = 1000\n",
        "x=random.uniform(-10,10)\n",
        "y=random.uniform(-10,10)\n",
        "for i in range(epochs):\n",
        "  grad_x=6*x\n",
        "  grad_y=-5*math.exp(-y)\n",
        "  delx=-eta*grad_x\n",
        "  dely=-eta*grad_y\n",
        "  x=x+delx\n",
        "  y=y+dely"
      ],
      "metadata": {
        "id": "1HpDfFnsS7VH"
      },
      "execution_count": 16,
      "outputs": []
    },
    {
      "cell_type": "code",
      "source": [
        "print(round(x))\n",
        "print(round(y))"
      ],
      "metadata": {
        "colab": {
          "base_uri": "https://localhost:8080/"
        },
        "id": "zuMnUOx8WIZk",
        "outputId": "537bd819-6f2e-436d-c531-0dcc0791fd54"
      },
      "execution_count": 19,
      "outputs": [
        {
          "output_type": "stream",
          "name": "stdout",
          "text": [
            "0\n",
            "2\n"
          ]
        }
      ]
    },
    {
      "cell_type": "markdown",
      "source": [
        "3"
      ],
      "metadata": {
        "id": "zaCX85rsb0sv"
      }
    },
    {
      "cell_type": "code",
      "source": [
        "#f(x) = 1/(1+e^-x)\n",
        "import math"
      ],
      "metadata": {
        "id": "B0N6GVdBb3Cl"
      },
      "execution_count": 20,
      "outputs": []
    },
    {
      "cell_type": "code",
      "source": [
        "eta=0.001\n",
        "epochs = 1000\n",
        "x=random.uniform(-10,10)\n",
        "for i in range(epochs):\n",
        "    z = 1 / (1 + math.exp(-x))\n",
        "    grad = z * (1 - z)\n",
        "    delx = -eta * grad\n",
        "    x = x + delx\n"
      ],
      "metadata": {
        "id": "m8hBW7wmb5it"
      },
      "execution_count": 27,
      "outputs": []
    },
    {
      "cell_type": "code",
      "source": [
        "print(round(x))"
      ],
      "metadata": {
        "colab": {
          "base_uri": "https://localhost:8080/"
        },
        "id": "64sG5Fu0cGPk",
        "outputId": "76157368-312c-4fda-f0df-5cb4ad2fa0e8"
      },
      "execution_count": 26,
      "outputs": [
        {
          "output_type": "stream",
          "name": "stdout",
          "text": [
            "-3\n"
          ]
        }
      ]
    },
    {
      "cell_type": "markdown",
      "source": [
        "4"
      ],
      "metadata": {
        "id": "Ryjgp-_zduvc"
      }
    },
    {
      "cell_type": "code",
      "source": [
        "# y= mx+c"
      ],
      "metadata": {
        "id": "8o_G7ycFdvtF"
      },
      "execution_count": 28,
      "outputs": []
    },
    {
      "cell_type": "code",
      "source": [
        "eta=0.001\n",
        "epochs = 1000\n",
        "m=random.uniform(-10,10)\n",
        "c=random.uniform(-10,10)\n",
        "x=2\n",
        "ep=0.5\n",
        "se=0"
      ],
      "metadata": {
        "id": "soClYDcsdxx5"
      },
      "execution_count": 29,
      "outputs": []
    },
    {
      "cell_type": "code",
      "source": [
        "for i in range(epochs):\n",
        "  grad_x=x\n",
        "  grad_y=1\n",
        "  delx=-eta*grad_x\n",
        "  dely=-eta*grad_y\n",
        "  m=m+delx\n",
        "  c=c+dely\n",
        "  y=m*x+c\n",
        "  se=min(se,(y-ep)**2)"
      ],
      "metadata": {
        "id": "Yy8AQ9e7d32H"
      },
      "execution_count": 30,
      "outputs": []
    },
    {
      "cell_type": "code",
      "source": [
        "print(np.round(m))\n",
        "print(np.round(c))"
      ],
      "metadata": {
        "colab": {
          "base_uri": "https://localhost:8080/"
        },
        "id": "8gZ-m6vtd-6R",
        "outputId": "f51a5728-f0ef-40c3-a977-ddb121063609"
      },
      "execution_count": 33,
      "outputs": [
        {
          "output_type": "stream",
          "name": "stdout",
          "text": [
            "4.0\n",
            "1.0\n"
          ]
        }
      ]
    },
    {
      "cell_type": "code",
      "source": [
        "print(se)"
      ],
      "metadata": {
        "colab": {
          "base_uri": "https://localhost:8080/"
        },
        "id": "5CriFITbeSbm",
        "outputId": "7f2dbcb7-ae48-4344-a104-c9a2fb748810"
      },
      "execution_count": 34,
      "outputs": [
        {
          "output_type": "stream",
          "name": "stdout",
          "text": [
            "0\n"
          ]
        }
      ]
    }
  ]
}